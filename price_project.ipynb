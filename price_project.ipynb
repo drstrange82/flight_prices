{
  "nbformat": 4,
  "nbformat_minor": 0,
  "metadata": {
    "colab": {
      "provenance": []
    },
    "kernelspec": {
      "name": "python3",
      "display_name": "Python 3"
    },
    "language_info": {
      "name": "python"
    }
  },
  "cells": [
    {
      "cell_type": "code",
      "execution_count": 2,
      "metadata": {
        "colab": {
          "base_uri": "https://localhost:8080/"
        },
        "id": "CMb48bKVeYKc",
        "outputId": "06424049-3595-4fd8-fb75-81204668542f"
      },
      "outputs": [
        {
          "output_type": "stream",
          "name": "stdout",
          "text": [
            "Dataset URL: https://www.kaggle.com/datasets/viveksharmar/flight-price-data\n",
            "License(s): MIT\n",
            "Downloading flight-price-data.zip to /content\n",
            "  0% 0.00/115k [00:00<?, ?B/s]\n",
            "100% 115k/115k [00:00<00:00, 50.3MB/s]\n"
          ]
        }
      ],
      "source": [
        "!kaggle datasets download -d viveksharmar/flight-price-data"
      ]
    },
    {
      "cell_type": "code",
      "source": [
        "import zipfile as zf\n",
        "zf = zf.ZipFile('flight-price-data.zip')\n",
        "zf.extractall()\n",
        "zf.close()"
      ],
      "metadata": {
        "id": "eTOn1_PDiEat"
      },
      "execution_count": 3,
      "outputs": []
    },
    {
      "cell_type": "code",
      "source": [
        "import csv\n",
        "csv_file = open('flight_dataset.csv')\n",
        "csv_reader = csv.DictReader(csv_file)\n",
        "csv_reader.fieldnames"
      ],
      "metadata": {
        "colab": {
          "base_uri": "https://localhost:8080/"
        },
        "id": "6EjxNOKPi2JW",
        "outputId": "988a171e-f761-4ffa-ff12-349682afe1ef"
      },
      "execution_count": 4,
      "outputs": [
        {
          "output_type": "execute_result",
          "data": {
            "text/plain": [
              "['Airline',\n",
              " 'Source',\n",
              " 'Destination',\n",
              " 'Total_Stops',\n",
              " 'Price',\n",
              " 'Date',\n",
              " 'Month',\n",
              " 'Year',\n",
              " 'Dep_hours',\n",
              " 'Dep_min',\n",
              " 'Arrival_hours',\n",
              " 'Arrival_min',\n",
              " 'Duration_hours',\n",
              " 'Duration_min']"
            ]
          },
          "metadata": {},
          "execution_count": 4
        }
      ]
    },
    {
      "cell_type": "code",
      "source": [
        "flight_data = []\n",
        "for row in csv_reader:\n",
        "  flight_data.append(row)"
      ],
      "metadata": {
        "id": "uuvds9JejMTL"
      },
      "execution_count": 5,
      "outputs": []
    },
    {
      "cell_type": "code",
      "source": [
        "import pandas as pd\n",
        "df = pd.DataFrame(flight_data)"
      ],
      "metadata": {
        "id": "eLrmMhozkPVC"
      },
      "execution_count": 6,
      "outputs": []
    },
    {
      "cell_type": "code",
      "source": [
        "df.head()"
      ],
      "metadata": {
        "colab": {
          "base_uri": "https://localhost:8080/",
          "height": 206
        },
        "id": "WUoLtmKyklBT",
        "outputId": "67ed5d40-59e8-4671-a564-2b4b3be2d2c1"
      },
      "execution_count": 7,
      "outputs": [
        {
          "output_type": "execute_result",
          "data": {
            "text/plain": [
              "       Airline    Source Destination Total_Stops  Price Date Month  Year  \\\n",
              "0       IndiGo  Banglore   New Delhi           0   3897   24     3  2019   \n",
              "1    Air India   Kolkata    Banglore           2   7662    1     5  2019   \n",
              "2  Jet Airways     Delhi      Cochin           2  13882    9     6  2019   \n",
              "3       IndiGo   Kolkata    Banglore           1   6218   12     5  2019   \n",
              "4       IndiGo  Banglore   New Delhi           1  13302    1     3  2019   \n",
              "\n",
              "  Dep_hours Dep_min Arrival_hours Arrival_min Duration_hours Duration_min  \n",
              "0        22      20             1          10              2           50  \n",
              "1         5      50            13          15              7           25  \n",
              "2         9      25             4          25             19            0  \n",
              "3        18       5            23          30              5           25  \n",
              "4        16      50            21          35              4           45  "
            ],
            "text/html": [
              "\n",
              "  <div id=\"df-9398ef3b-7507-4776-8e56-5c6ac188d279\" class=\"colab-df-container\">\n",
              "    <div>\n",
              "<style scoped>\n",
              "    .dataframe tbody tr th:only-of-type {\n",
              "        vertical-align: middle;\n",
              "    }\n",
              "\n",
              "    .dataframe tbody tr th {\n",
              "        vertical-align: top;\n",
              "    }\n",
              "\n",
              "    .dataframe thead th {\n",
              "        text-align: right;\n",
              "    }\n",
              "</style>\n",
              "<table border=\"1\" class=\"dataframe\">\n",
              "  <thead>\n",
              "    <tr style=\"text-align: right;\">\n",
              "      <th></th>\n",
              "      <th>Airline</th>\n",
              "      <th>Source</th>\n",
              "      <th>Destination</th>\n",
              "      <th>Total_Stops</th>\n",
              "      <th>Price</th>\n",
              "      <th>Date</th>\n",
              "      <th>Month</th>\n",
              "      <th>Year</th>\n",
              "      <th>Dep_hours</th>\n",
              "      <th>Dep_min</th>\n",
              "      <th>Arrival_hours</th>\n",
              "      <th>Arrival_min</th>\n",
              "      <th>Duration_hours</th>\n",
              "      <th>Duration_min</th>\n",
              "    </tr>\n",
              "  </thead>\n",
              "  <tbody>\n",
              "    <tr>\n",
              "      <th>0</th>\n",
              "      <td>IndiGo</td>\n",
              "      <td>Banglore</td>\n",
              "      <td>New Delhi</td>\n",
              "      <td>0</td>\n",
              "      <td>3897</td>\n",
              "      <td>24</td>\n",
              "      <td>3</td>\n",
              "      <td>2019</td>\n",
              "      <td>22</td>\n",
              "      <td>20</td>\n",
              "      <td>1</td>\n",
              "      <td>10</td>\n",
              "      <td>2</td>\n",
              "      <td>50</td>\n",
              "    </tr>\n",
              "    <tr>\n",
              "      <th>1</th>\n",
              "      <td>Air India</td>\n",
              "      <td>Kolkata</td>\n",
              "      <td>Banglore</td>\n",
              "      <td>2</td>\n",
              "      <td>7662</td>\n",
              "      <td>1</td>\n",
              "      <td>5</td>\n",
              "      <td>2019</td>\n",
              "      <td>5</td>\n",
              "      <td>50</td>\n",
              "      <td>13</td>\n",
              "      <td>15</td>\n",
              "      <td>7</td>\n",
              "      <td>25</td>\n",
              "    </tr>\n",
              "    <tr>\n",
              "      <th>2</th>\n",
              "      <td>Jet Airways</td>\n",
              "      <td>Delhi</td>\n",
              "      <td>Cochin</td>\n",
              "      <td>2</td>\n",
              "      <td>13882</td>\n",
              "      <td>9</td>\n",
              "      <td>6</td>\n",
              "      <td>2019</td>\n",
              "      <td>9</td>\n",
              "      <td>25</td>\n",
              "      <td>4</td>\n",
              "      <td>25</td>\n",
              "      <td>19</td>\n",
              "      <td>0</td>\n",
              "    </tr>\n",
              "    <tr>\n",
              "      <th>3</th>\n",
              "      <td>IndiGo</td>\n",
              "      <td>Kolkata</td>\n",
              "      <td>Banglore</td>\n",
              "      <td>1</td>\n",
              "      <td>6218</td>\n",
              "      <td>12</td>\n",
              "      <td>5</td>\n",
              "      <td>2019</td>\n",
              "      <td>18</td>\n",
              "      <td>5</td>\n",
              "      <td>23</td>\n",
              "      <td>30</td>\n",
              "      <td>5</td>\n",
              "      <td>25</td>\n",
              "    </tr>\n",
              "    <tr>\n",
              "      <th>4</th>\n",
              "      <td>IndiGo</td>\n",
              "      <td>Banglore</td>\n",
              "      <td>New Delhi</td>\n",
              "      <td>1</td>\n",
              "      <td>13302</td>\n",
              "      <td>1</td>\n",
              "      <td>3</td>\n",
              "      <td>2019</td>\n",
              "      <td>16</td>\n",
              "      <td>50</td>\n",
              "      <td>21</td>\n",
              "      <td>35</td>\n",
              "      <td>4</td>\n",
              "      <td>45</td>\n",
              "    </tr>\n",
              "  </tbody>\n",
              "</table>\n",
              "</div>\n",
              "    <div class=\"colab-df-buttons\">\n",
              "\n",
              "  <div class=\"colab-df-container\">\n",
              "    <button class=\"colab-df-convert\" onclick=\"convertToInteractive('df-9398ef3b-7507-4776-8e56-5c6ac188d279')\"\n",
              "            title=\"Convert this dataframe to an interactive table.\"\n",
              "            style=\"display:none;\">\n",
              "\n",
              "  <svg xmlns=\"http://www.w3.org/2000/svg\" height=\"24px\" viewBox=\"0 -960 960 960\">\n",
              "    <path d=\"M120-120v-720h720v720H120Zm60-500h600v-160H180v160Zm220 220h160v-160H400v160Zm0 220h160v-160H400v160ZM180-400h160v-160H180v160Zm440 0h160v-160H620v160ZM180-180h160v-160H180v160Zm440 0h160v-160H620v160Z\"/>\n",
              "  </svg>\n",
              "    </button>\n",
              "\n",
              "  <style>\n",
              "    .colab-df-container {\n",
              "      display:flex;\n",
              "      gap: 12px;\n",
              "    }\n",
              "\n",
              "    .colab-df-convert {\n",
              "      background-color: #E8F0FE;\n",
              "      border: none;\n",
              "      border-radius: 50%;\n",
              "      cursor: pointer;\n",
              "      display: none;\n",
              "      fill: #1967D2;\n",
              "      height: 32px;\n",
              "      padding: 0 0 0 0;\n",
              "      width: 32px;\n",
              "    }\n",
              "\n",
              "    .colab-df-convert:hover {\n",
              "      background-color: #E2EBFA;\n",
              "      box-shadow: 0px 1px 2px rgba(60, 64, 67, 0.3), 0px 1px 3px 1px rgba(60, 64, 67, 0.15);\n",
              "      fill: #174EA6;\n",
              "    }\n",
              "\n",
              "    .colab-df-buttons div {\n",
              "      margin-bottom: 4px;\n",
              "    }\n",
              "\n",
              "    [theme=dark] .colab-df-convert {\n",
              "      background-color: #3B4455;\n",
              "      fill: #D2E3FC;\n",
              "    }\n",
              "\n",
              "    [theme=dark] .colab-df-convert:hover {\n",
              "      background-color: #434B5C;\n",
              "      box-shadow: 0px 1px 3px 1px rgba(0, 0, 0, 0.15);\n",
              "      filter: drop-shadow(0px 1px 2px rgba(0, 0, 0, 0.3));\n",
              "      fill: #FFFFFF;\n",
              "    }\n",
              "  </style>\n",
              "\n",
              "    <script>\n",
              "      const buttonEl =\n",
              "        document.querySelector('#df-9398ef3b-7507-4776-8e56-5c6ac188d279 button.colab-df-convert');\n",
              "      buttonEl.style.display =\n",
              "        google.colab.kernel.accessAllowed ? 'block' : 'none';\n",
              "\n",
              "      async function convertToInteractive(key) {\n",
              "        const element = document.querySelector('#df-9398ef3b-7507-4776-8e56-5c6ac188d279');\n",
              "        const dataTable =\n",
              "          await google.colab.kernel.invokeFunction('convertToInteractive',\n",
              "                                                    [key], {});\n",
              "        if (!dataTable) return;\n",
              "\n",
              "        const docLinkHtml = 'Like what you see? Visit the ' +\n",
              "          '<a target=\"_blank\" href=https://colab.research.google.com/notebooks/data_table.ipynb>data table notebook</a>'\n",
              "          + ' to learn more about interactive tables.';\n",
              "        element.innerHTML = '';\n",
              "        dataTable['output_type'] = 'display_data';\n",
              "        await google.colab.output.renderOutput(dataTable, element);\n",
              "        const docLink = document.createElement('div');\n",
              "        docLink.innerHTML = docLinkHtml;\n",
              "        element.appendChild(docLink);\n",
              "      }\n",
              "    </script>\n",
              "  </div>\n",
              "\n",
              "\n",
              "<div id=\"df-9f8d116b-ecc3-4c06-909a-f74a7dabe6b3\">\n",
              "  <button class=\"colab-df-quickchart\" onclick=\"quickchart('df-9f8d116b-ecc3-4c06-909a-f74a7dabe6b3')\"\n",
              "            title=\"Suggest charts\"\n",
              "            style=\"display:none;\">\n",
              "\n",
              "<svg xmlns=\"http://www.w3.org/2000/svg\" height=\"24px\"viewBox=\"0 0 24 24\"\n",
              "     width=\"24px\">\n",
              "    <g>\n",
              "        <path d=\"M19 3H5c-1.1 0-2 .9-2 2v14c0 1.1.9 2 2 2h14c1.1 0 2-.9 2-2V5c0-1.1-.9-2-2-2zM9 17H7v-7h2v7zm4 0h-2V7h2v10zm4 0h-2v-4h2v4z\"/>\n",
              "    </g>\n",
              "</svg>\n",
              "  </button>\n",
              "\n",
              "<style>\n",
              "  .colab-df-quickchart {\n",
              "      --bg-color: #E8F0FE;\n",
              "      --fill-color: #1967D2;\n",
              "      --hover-bg-color: #E2EBFA;\n",
              "      --hover-fill-color: #174EA6;\n",
              "      --disabled-fill-color: #AAA;\n",
              "      --disabled-bg-color: #DDD;\n",
              "  }\n",
              "\n",
              "  [theme=dark] .colab-df-quickchart {\n",
              "      --bg-color: #3B4455;\n",
              "      --fill-color: #D2E3FC;\n",
              "      --hover-bg-color: #434B5C;\n",
              "      --hover-fill-color: #FFFFFF;\n",
              "      --disabled-bg-color: #3B4455;\n",
              "      --disabled-fill-color: #666;\n",
              "  }\n",
              "\n",
              "  .colab-df-quickchart {\n",
              "    background-color: var(--bg-color);\n",
              "    border: none;\n",
              "    border-radius: 50%;\n",
              "    cursor: pointer;\n",
              "    display: none;\n",
              "    fill: var(--fill-color);\n",
              "    height: 32px;\n",
              "    padding: 0;\n",
              "    width: 32px;\n",
              "  }\n",
              "\n",
              "  .colab-df-quickchart:hover {\n",
              "    background-color: var(--hover-bg-color);\n",
              "    box-shadow: 0 1px 2px rgba(60, 64, 67, 0.3), 0 1px 3px 1px rgba(60, 64, 67, 0.15);\n",
              "    fill: var(--button-hover-fill-color);\n",
              "  }\n",
              "\n",
              "  .colab-df-quickchart-complete:disabled,\n",
              "  .colab-df-quickchart-complete:disabled:hover {\n",
              "    background-color: var(--disabled-bg-color);\n",
              "    fill: var(--disabled-fill-color);\n",
              "    box-shadow: none;\n",
              "  }\n",
              "\n",
              "  .colab-df-spinner {\n",
              "    border: 2px solid var(--fill-color);\n",
              "    border-color: transparent;\n",
              "    border-bottom-color: var(--fill-color);\n",
              "    animation:\n",
              "      spin 1s steps(1) infinite;\n",
              "  }\n",
              "\n",
              "  @keyframes spin {\n",
              "    0% {\n",
              "      border-color: transparent;\n",
              "      border-bottom-color: var(--fill-color);\n",
              "      border-left-color: var(--fill-color);\n",
              "    }\n",
              "    20% {\n",
              "      border-color: transparent;\n",
              "      border-left-color: var(--fill-color);\n",
              "      border-top-color: var(--fill-color);\n",
              "    }\n",
              "    30% {\n",
              "      border-color: transparent;\n",
              "      border-left-color: var(--fill-color);\n",
              "      border-top-color: var(--fill-color);\n",
              "      border-right-color: var(--fill-color);\n",
              "    }\n",
              "    40% {\n",
              "      border-color: transparent;\n",
              "      border-right-color: var(--fill-color);\n",
              "      border-top-color: var(--fill-color);\n",
              "    }\n",
              "    60% {\n",
              "      border-color: transparent;\n",
              "      border-right-color: var(--fill-color);\n",
              "    }\n",
              "    80% {\n",
              "      border-color: transparent;\n",
              "      border-right-color: var(--fill-color);\n",
              "      border-bottom-color: var(--fill-color);\n",
              "    }\n",
              "    90% {\n",
              "      border-color: transparent;\n",
              "      border-bottom-color: var(--fill-color);\n",
              "    }\n",
              "  }\n",
              "</style>\n",
              "\n",
              "  <script>\n",
              "    async function quickchart(key) {\n",
              "      const quickchartButtonEl =\n",
              "        document.querySelector('#' + key + ' button');\n",
              "      quickchartButtonEl.disabled = true;  // To prevent multiple clicks.\n",
              "      quickchartButtonEl.classList.add('colab-df-spinner');\n",
              "      try {\n",
              "        const charts = await google.colab.kernel.invokeFunction(\n",
              "            'suggestCharts', [key], {});\n",
              "      } catch (error) {\n",
              "        console.error('Error during call to suggestCharts:', error);\n",
              "      }\n",
              "      quickchartButtonEl.classList.remove('colab-df-spinner');\n",
              "      quickchartButtonEl.classList.add('colab-df-quickchart-complete');\n",
              "    }\n",
              "    (() => {\n",
              "      let quickchartButtonEl =\n",
              "        document.querySelector('#df-9f8d116b-ecc3-4c06-909a-f74a7dabe6b3 button');\n",
              "      quickchartButtonEl.style.display =\n",
              "        google.colab.kernel.accessAllowed ? 'block' : 'none';\n",
              "    })();\n",
              "  </script>\n",
              "</div>\n",
              "\n",
              "    </div>\n",
              "  </div>\n"
            ],
            "application/vnd.google.colaboratory.intrinsic+json": {
              "type": "dataframe",
              "variable_name": "df",
              "summary": "{\n  \"name\": \"df\",\n  \"rows\": 10683,\n  \"fields\": [\n    {\n      \"column\": \"Airline\",\n      \"properties\": {\n        \"dtype\": \"category\",\n        \"num_unique_values\": 12,\n        \"samples\": [\n          \"Multiple carriers Premium economy\",\n          \"Jet Airways Business\",\n          \"IndiGo\"\n        ],\n        \"semantic_type\": \"\",\n        \"description\": \"\"\n      }\n    },\n    {\n      \"column\": \"Source\",\n      \"properties\": {\n        \"dtype\": \"category\",\n        \"num_unique_values\": 5,\n        \"samples\": [\n          \"Kolkata\",\n          \"Mumbai\",\n          \"Delhi\"\n        ],\n        \"semantic_type\": \"\",\n        \"description\": \"\"\n      }\n    },\n    {\n      \"column\": \"Destination\",\n      \"properties\": {\n        \"dtype\": \"category\",\n        \"num_unique_values\": 6,\n        \"samples\": [\n          \"New Delhi\",\n          \"Banglore\",\n          \"Hyderabad\"\n        ],\n        \"semantic_type\": \"\",\n        \"description\": \"\"\n      }\n    },\n    {\n      \"column\": \"Total_Stops\",\n      \"properties\": {\n        \"dtype\": \"category\",\n        \"num_unique_values\": 5,\n        \"samples\": [\n          \"2\",\n          \"4\",\n          \"1\"\n        ],\n        \"semantic_type\": \"\",\n        \"description\": \"\"\n      }\n    },\n    {\n      \"column\": \"Price\",\n      \"properties\": {\n        \"dtype\": \"category\",\n        \"num_unique_values\": 1870,\n        \"samples\": [\n          \"10810\",\n          \"4588\",\n          \"10056\"\n        ],\n        \"semantic_type\": \"\",\n        \"description\": \"\"\n      }\n    },\n    {\n      \"column\": \"Date\",\n      \"properties\": {\n        \"dtype\": \"category\",\n        \"num_unique_values\": 10,\n        \"samples\": [\n          \"6\",\n          \"1\",\n          \"18\"\n        ],\n        \"semantic_type\": \"\",\n        \"description\": \"\"\n      }\n    },\n    {\n      \"column\": \"Month\",\n      \"properties\": {\n        \"dtype\": \"category\",\n        \"num_unique_values\": 4,\n        \"samples\": [\n          \"5\",\n          \"4\",\n          \"3\"\n        ],\n        \"semantic_type\": \"\",\n        \"description\": \"\"\n      }\n    },\n    {\n      \"column\": \"Year\",\n      \"properties\": {\n        \"dtype\": \"object\",\n        \"num_unique_values\": 1,\n        \"samples\": [\n          \"2019\"\n        ],\n        \"semantic_type\": \"\",\n        \"description\": \"\"\n      }\n    },\n    {\n      \"column\": \"Dep_hours\",\n      \"properties\": {\n        \"dtype\": \"category\",\n        \"num_unique_values\": 24,\n        \"samples\": [\n          \"21\"\n        ],\n        \"semantic_type\": \"\",\n        \"description\": \"\"\n      }\n    },\n    {\n      \"column\": \"Dep_min\",\n      \"properties\": {\n        \"dtype\": \"category\",\n        \"num_unique_values\": 12,\n        \"samples\": [\n          \"35\"\n        ],\n        \"semantic_type\": \"\",\n        \"description\": \"\"\n      }\n    },\n    {\n      \"column\": \"Arrival_hours\",\n      \"properties\": {\n        \"dtype\": \"category\",\n        \"num_unique_values\": 24,\n        \"samples\": [\n          \"19\"\n        ],\n        \"semantic_type\": \"\",\n        \"description\": \"\"\n      }\n    },\n    {\n      \"column\": \"Arrival_min\",\n      \"properties\": {\n        \"dtype\": \"category\",\n        \"num_unique_values\": 12,\n        \"samples\": [\n          \"45\"\n        ],\n        \"semantic_type\": \"\",\n        \"description\": \"\"\n      }\n    },\n    {\n      \"column\": \"Duration_hours\",\n      \"properties\": {\n        \"dtype\": \"category\",\n        \"num_unique_values\": 43,\n        \"samples\": [\n          \"32\"\n        ],\n        \"semantic_type\": \"\",\n        \"description\": \"\"\n      }\n    },\n    {\n      \"column\": \"Duration_min\",\n      \"properties\": {\n        \"dtype\": \"category\",\n        \"num_unique_values\": 12,\n        \"samples\": [\n          \"55\"\n        ],\n        \"semantic_type\": \"\",\n        \"description\": \"\"\n      }\n    }\n  ]\n}"
            }
          },
          "metadata": {},
          "execution_count": 7
        }
      ]
    },
    {
      "cell_type": "code",
      "source": [
        "import random\n",
        "random.seed(42)"
      ],
      "metadata": {
        "id": "dtPd-TcWklxy"
      },
      "execution_count": 8,
      "outputs": []
    },
    {
      "cell_type": "code",
      "source": [
        "random_index = random.randint(0, len(df) - 1)\n",
        "df.iloc[random_index]"
      ],
      "metadata": {
        "colab": {
          "base_uri": "https://localhost:8080/"
        },
        "id": "IpdA_nKbk-Wh",
        "outputId": "d9895d3a-4290-478c-ebf9-7aab891d8d65"
      },
      "execution_count": 17,
      "outputs": [
        {
          "output_type": "execute_result",
          "data": {
            "text/plain": [
              "Airline           Air India\n",
              "Source               Mumbai\n",
              "Destination       Hyderabad\n",
              "Total_Stops               2\n",
              "Price                 22619\n",
              "Date                      6\n",
              "Month                     3\n",
              "Year                   2019\n",
              "Dep_hours                 9\n",
              "Dep_min                  40\n",
              "Arrival_hours            23\n",
              "Arrival_min              45\n",
              "Duration_hours           14\n",
              "Duration_min              5\n",
              "Name: 1824, dtype: object"
            ]
          },
          "metadata": {},
          "execution_count": 17
        }
      ]
    },
    {
      "cell_type": "code",
      "source": [
        "df[\"Year\"].hist()"
      ],
      "metadata": {
        "colab": {
          "base_uri": "https://localhost:8080/",
          "height": 447
        },
        "id": "8oILA0MIlKyC",
        "outputId": "e47c9943-6cd8-42b2-fd22-32d09ead6e25"
      },
      "execution_count": 10,
      "outputs": [
        {
          "output_type": "execute_result",
          "data": {
            "text/plain": [
              "<Axes: >"
            ]
          },
          "metadata": {},
          "execution_count": 10
        },
        {
          "output_type": "display_data",
          "data": {
            "text/plain": [
              "<Figure size 640x480 with 1 Axes>"
            ],
            "image/png": "[encoded data removed]"
          },
          "metadata": {}
        }
      ]
    },
    {
      "cell_type": "code",
      "source": [
        "#80% of data fro training\n",
        "#20% of data for testing\n",
        "train_test_split = int(len(df) * .8)\n",
        "train_test_split"
      ],
      "metadata": {
        "colab": {
          "base_uri": "https://localhost:8080/"
        },
        "id": "RwrMkANtloYK",
        "outputId": "3d910436-3682-4cb6-99a3-9667ceb5afad"
      },
      "execution_count": 11,
      "outputs": [
        {
          "output_type": "execute_result",
          "data": {
            "text/plain": [
              "8546"
            ]
          },
          "metadata": {},
          "execution_count": 11
        }
      ]
    },
    {
      "cell_type": "code",
      "source": [
        "len(df)"
      ],
      "metadata": {
        "colab": {
          "base_uri": "https://localhost:8080/"
        },
        "id": "tZdtculhoz14",
        "outputId": "c394ee06-c0b1-4407-d5b0-91e546670d95"
      },
      "execution_count": 12,
      "outputs": [
        {
          "output_type": "execute_result",
          "data": {
            "text/plain": [
              "10683"
            ]
          },
          "metadata": {},
          "execution_count": 12
        }
      ]
    },
    {
      "cell_type": "code",
      "source": [
        "# x_train: data the mdoel will train on\n",
        "# y_train: the labels of data that the model train on\n",
        "# y_train[0] -> x_train[0]\n",
        "\n",
        "X_train, y_train = df.drop('Price', axis=1)[:train_test_split], df['Price'][:train_test_split]\n",
        "X_test, y_test = df.drop('Price', axis=1)[train_test_split:],df['Price'][train_test_split:]\n",
        "len(X_train), len(y_train), len(X_test), len(y_test)"
      ],
      "metadata": {
        "colab": {
          "base_uri": "https://localhost:8080/"
        },
        "id": "W9NjC-sto1Nn",
        "outputId": "58d71640-ae4a-4ed6-c397-12e16b1bc1f3"
      },
      "execution_count": 14,
      "outputs": [
        {
          "output_type": "execute_result",
          "data": {
            "text/plain": [
              "(8546, 8546, 2137, 2137)"
            ]
          },
          "metadata": {},
          "execution_count": 14
        }
      ]
    },
    {
      "cell_type": "markdown",
      "source": [
        "+, -, x, /\n",
        "\n",
        "AirIndia, IndiaGo, IndiaAirline\n",
        "\n",
        "Airline ->AirIndia->[1,0,0]\n",
        "\n"
      ],
      "metadata": {
        "id": "qF2IZNu2ixaC"
      }
    },
    {
      "cell_type": "code",
      "source": [
        "from sklearn.compose import make_column_transformer\n",
        "from sklearn.preprocessing import OneHotEncoder, MinMaxScaler\n",
        "\n",
        "ct = make_column_transformer(\n",
        "    (MinMaxScaler(), [\"Date\", \"Month\", \"Year\", \"Dep_hours\", \"Dep_min\", \"Arrival_hours\", \"Arrival_min\", \"Duration_hours\", \"Duration_min\"]),\n",
        "    (OneHotEncoder(handle_unknown=\"ignore\"), [\"Destination\", \"Source\", \"Airline\"])\n",
        ")\n",
        "\n",
        "ct.fit(X_train)\n",
        "\n",
        "X_train_normal = ct.transform(X_train)\n",
        "X_test_normal = ct.transform(X_test)"
      ],
      "metadata": {
        "id": "zXvDZ-yr72vH"
      },
      "execution_count": 26,
      "outputs": []
    },
    {
      "cell_type": "code",
      "source": [
        "X_train_normal"
      ],
      "metadata": {
        "colab": {
          "base_uri": "https://localhost:8080/"
        },
        "id": "Ow_BrgB0BHHo",
        "outputId": "c6971b61-8dd9-449d-f129-8acb3ef6bd5e"
      },
      "execution_count": 27,
      "outputs": [
        {
          "output_type": "execute_result",
          "data": {
            "text/plain": [
              "array([[0.88461538, 0.        , 0.        , ..., 0.        , 0.        ,\n",
              "        0.        ],\n",
              "       [0.        , 0.66666667, 0.        , ..., 0.        , 0.        ,\n",
              "        0.        ],\n",
              "       [0.30769231, 1.        , 0.        , ..., 0.        , 0.        ,\n",
              "        0.        ],\n",
              "       ...,\n",
              "       [0.30769231, 0.66666667, 0.        , ..., 0.        , 0.        ,\n",
              "        0.        ],\n",
              "       [0.88461538, 0.66666667, 0.        , ..., 0.        , 0.        ,\n",
              "        0.        ],\n",
              "       [0.53846154, 0.66666667, 0.        , ..., 0.        , 0.        ,\n",
              "        0.        ]])"
            ]
          },
          "metadata": {},
          "execution_count": 27
        }
      ]
    },
    {
      "cell_type": "code",
      "source": [
        "import numpy as np\n",
        "\n",
        "y_train = np.array(y_train, dtype=np.float32)"
      ],
      "metadata": {
        "id": "lw7Jwpxrnynr"
      },
      "execution_count": 32,
      "outputs": []
    },
    {
      "cell_type": "code",
      "source": [
        "import tensorflow as tf\n",
        "\n",
        "tf.random.set_seed(42)\n",
        "\n",
        "model = tf.keras.Sequential([\n",
        "    tf.keras.layers.Dense(32),\n",
        "    tf.keras.layers.Dense(100),\n",
        "    tf.keras.layers.Dense(100),\n",
        "    tf.keras.layers.Dense(1)\n",
        "], name=\"flight_price_model\")\n",
        "\n",
        "model.compile(loss=tf.keras.losses.mae, #loss funciton: It quantifies the difference between a model's predicted outputs and the actual target values.\n",
        "              optimizer= tf.keras.optimizers.Adam(),\n",
        "              metrics=[\"mae\"])\n",
        "\n",
        "model_history = model.fit(X_train_normal, y_train, epochs=100)"
      ],
      "metadata": {
        "colab": {
          "base_uri": "https://localhost:8080/"
        },
        "id": "b8MUtdzMCHol",
        "outputId": "ea99eb51-4135-438e-c6c5-b819e8bac0fa"
      },
      "execution_count": 37,
      "outputs": [
        {
          "output_type": "stream",
          "name": "stdout",
          "text": [
            "Epoch 1/100\n",
            "268/268 [==============================] - 2s 2ms/step - loss: 5323.4551 - mae: 5323.4551\n",
            "Epoch 2/100\n",
            "268/268 [==============================] - 1s 2ms/step - loss: 2383.8037 - mae: 2383.8037\n",
            "Epoch 3/100\n",
            "268/268 [==============================] - 1s 2ms/step - loss: 2193.4321 - mae: 2193.4321\n",
            "Epoch 4/100\n",
            "268/268 [==============================] - 1s 3ms/step - loss: 2146.9539 - mae: 2146.9539\n",
            "Epoch 5/100\n",
            "268/268 [==============================] - 1s 4ms/step - loss: 2115.8447 - mae: 2115.8447\n",
            "Epoch 6/100\n",
            "268/268 [==============================] - 1s 4ms/step - loss: 2108.5806 - mae: 2108.5806\n",
            "Epoch 7/100\n",
            "268/268 [==============================] - 1s 4ms/step - loss: 2098.1667 - mae: 2098.1667\n",
            "Epoch 8/100\n",
            "268/268 [==============================] - 1s 4ms/step - loss: 2093.9502 - mae: 2093.9502\n",
            "Epoch 9/100\n",
            "268/268 [==============================] - 1s 2ms/step - loss: 2092.4956 - mae: 2092.4956\n",
            "Epoch 10/100\n",
            "268/268 [==============================] - 1s 2ms/step - loss: 2090.6436 - mae: 2090.6436\n",
            "Epoch 11/100\n",
            "268/268 [==============================] - 1s 2ms/step - loss: 2089.3313 - mae: 2089.3313\n",
            "Epoch 12/100\n",
            "268/268 [==============================] - 1s 2ms/step - loss: 2090.2000 - mae: 2090.2000\n",
            "Epoch 13/100\n",
            "268/268 [==============================] - 1s 2ms/step - loss: 2090.8215 - mae: 2090.8215\n",
            "Epoch 14/100\n",
            "268/268 [==============================] - 1s 2ms/step - loss: 2090.0012 - mae: 2090.0012\n",
            "Epoch 15/100\n",
            "268/268 [==============================] - 1s 2ms/step - loss: 2088.3813 - mae: 2088.3813\n",
            "Epoch 16/100\n",
            "268/268 [==============================] - 1s 2ms/step - loss: 2089.1853 - mae: 2089.1853\n",
            "Epoch 17/100\n",
            "268/268 [==============================] - 1s 2ms/step - loss: 2087.6750 - mae: 2087.6750\n",
            "Epoch 18/100\n",
            "268/268 [==============================] - 1s 2ms/step - loss: 2086.8364 - mae: 2086.8364\n",
            "Epoch 19/100\n",
            "268/268 [==============================] - 1s 2ms/step - loss: 2087.6797 - mae: 2087.6797\n",
            "Epoch 20/100\n",
            "268/268 [==============================] - 1s 2ms/step - loss: 2088.0823 - mae: 2088.0823\n",
            "Epoch 21/100\n",
            "268/268 [==============================] - 1s 2ms/step - loss: 2089.1497 - mae: 2089.1497\n",
            "Epoch 22/100\n",
            "268/268 [==============================] - 1s 2ms/step - loss: 2087.0112 - mae: 2087.0112\n",
            "Epoch 23/100\n",
            "268/268 [==============================] - 1s 3ms/step - loss: 2089.0061 - mae: 2089.0061\n",
            "Epoch 24/100\n",
            "268/268 [==============================] - 1s 3ms/step - loss: 2088.7446 - mae: 2088.7446\n",
            "Epoch 25/100\n",
            "268/268 [==============================] - 1s 4ms/step - loss: 2086.7666 - mae: 2086.7666\n",
            "Epoch 26/100\n",
            "268/268 [==============================] - 1s 3ms/step - loss: 2094.6707 - mae: 2094.6707\n",
            "Epoch 27/100\n",
            "268/268 [==============================] - 1s 3ms/step - loss: 2085.6133 - mae: 2085.6133\n",
            "Epoch 28/100\n",
            "268/268 [==============================] - 1s 2ms/step - loss: 2086.9558 - mae: 2086.9558\n",
            "Epoch 29/100\n",
            "268/268 [==============================] - 1s 2ms/step - loss: 2084.7188 - mae: 2084.7188\n",
            "Epoch 30/100\n",
            "268/268 [==============================] - 1s 2ms/step - loss: 2088.4248 - mae: 2088.4248\n",
            "Epoch 31/100\n",
            "268/268 [==============================] - 1s 2ms/step - loss: 2085.6074 - mae: 2085.6074\n",
            "Epoch 32/100\n",
            "268/268 [==============================] - 1s 2ms/step - loss: 2085.7219 - mae: 2085.7219\n",
            "Epoch 33/100\n",
            "268/268 [==============================] - 1s 2ms/step - loss: 2089.0569 - mae: 2089.0569\n",
            "Epoch 34/100\n",
            "268/268 [==============================] - 1s 2ms/step - loss: 2082.5168 - mae: 2082.5168\n",
            "Epoch 35/100\n",
            "268/268 [==============================] - 1s 2ms/step - loss: 2085.6340 - mae: 2085.6340\n",
            "Epoch 36/100\n",
            "268/268 [==============================] - 1s 2ms/step - loss: 2090.3513 - mae: 2090.3513\n",
            "Epoch 37/100\n",
            "268/268 [==============================] - 1s 3ms/step - loss: 2087.8254 - mae: 2087.8254\n",
            "Epoch 38/100\n",
            "268/268 [==============================] - 1s 2ms/step - loss: 2084.0706 - mae: 2084.0706\n",
            "Epoch 39/100\n",
            "268/268 [==============================] - 1s 2ms/step - loss: 2084.8433 - mae: 2084.8433\n",
            "Epoch 40/100\n",
            "268/268 [==============================] - 1s 2ms/step - loss: 2084.3650 - mae: 2084.3650\n",
            "Epoch 41/100\n",
            "268/268 [==============================] - 1s 2ms/step - loss: 2084.8496 - mae: 2084.8496\n",
            "Epoch 42/100\n",
            "268/268 [==============================] - 1s 2ms/step - loss: 2088.5635 - mae: 2088.5635\n",
            "Epoch 43/100\n",
            "268/268 [==============================] - 1s 3ms/step - loss: 2083.6880 - mae: 2083.6880\n",
            "Epoch 44/100\n",
            "268/268 [==============================] - 1s 4ms/step - loss: 2084.0408 - mae: 2084.0408\n",
            "Epoch 45/100\n",
            "268/268 [==============================] - 1s 5ms/step - loss: 2085.6577 - mae: 2085.6577\n",
            "Epoch 46/100\n",
            "268/268 [==============================] - 1s 4ms/step - loss: 2087.0681 - mae: 2087.0681\n",
            "Epoch 47/100\n",
            "268/268 [==============================] - 1s 2ms/step - loss: 2086.8567 - mae: 2086.8567\n",
            "Epoch 48/100\n",
            "268/268 [==============================] - 1s 2ms/step - loss: 2088.5972 - mae: 2088.5972\n",
            "Epoch 49/100\n",
            "268/268 [==============================] - 1s 2ms/step - loss: 2085.1965 - mae: 2085.1965\n",
            "Epoch 50/100\n",
            "268/268 [==============================] - 1s 2ms/step - loss: 2084.5913 - mae: 2084.5913\n",
            "Epoch 51/100\n",
            "268/268 [==============================] - 1s 2ms/step - loss: 2084.0198 - mae: 2084.0198\n",
            "Epoch 52/100\n",
            "268/268 [==============================] - 1s 2ms/step - loss: 2084.7656 - mae: 2084.7656\n",
            "Epoch 53/100\n",
            "268/268 [==============================] - 1s 2ms/step - loss: 2084.1760 - mae: 2084.1760\n",
            "Epoch 54/100\n",
            "268/268 [==============================] - 1s 2ms/step - loss: 2085.1055 - mae: 2085.1055\n",
            "Epoch 55/100\n",
            "268/268 [==============================] - 1s 2ms/step - loss: 2083.3035 - mae: 2083.3035\n",
            "Epoch 56/100\n",
            "268/268 [==============================] - 1s 2ms/step - loss: 2084.4863 - mae: 2084.4863\n",
            "Epoch 57/100\n",
            "268/268 [==============================] - 1s 2ms/step - loss: 2082.0193 - mae: 2082.0193\n",
            "Epoch 58/100\n",
            "268/268 [==============================] - 1s 2ms/step - loss: 2083.5227 - mae: 2083.5227\n",
            "Epoch 59/100\n",
            "268/268 [==============================] - 1s 2ms/step - loss: 2084.9832 - mae: 2084.9832\n",
            "Epoch 60/100\n",
            "268/268 [==============================] - 1s 2ms/step - loss: 2084.2764 - mae: 2084.2764\n",
            "Epoch 61/100\n",
            "268/268 [==============================] - 1s 2ms/step - loss: 2084.9058 - mae: 2084.9058\n",
            "Epoch 62/100\n",
            "268/268 [==============================] - 1s 2ms/step - loss: 2085.9036 - mae: 2085.9036\n",
            "Epoch 63/100\n",
            "268/268 [==============================] - 1s 3ms/step - loss: 2081.1755 - mae: 2081.1755\n",
            "Epoch 64/100\n",
            "268/268 [==============================] - 1s 3ms/step - loss: 2085.0347 - mae: 2085.0347\n",
            "Epoch 65/100\n",
            "268/268 [==============================] - 1s 4ms/step - loss: 2082.6138 - mae: 2082.6138\n",
            "Epoch 66/100\n",
            "268/268 [==============================] - 1s 3ms/step - loss: 2084.3699 - mae: 2084.3699\n",
            "Epoch 67/100\n",
            "268/268 [==============================] - 1s 3ms/step - loss: 2084.9504 - mae: 2084.9504\n",
            "Epoch 68/100\n",
            "268/268 [==============================] - 1s 2ms/step - loss: 2079.5349 - mae: 2079.5349\n",
            "Epoch 69/100\n",
            "268/268 [==============================] - 1s 2ms/step - loss: 2081.6289 - mae: 2081.6289\n",
            "Epoch 70/100\n",
            "268/268 [==============================] - 1s 2ms/step - loss: 2081.3977 - mae: 2081.3977\n",
            "Epoch 71/100\n",
            "268/268 [==============================] - 1s 2ms/step - loss: 2080.9136 - mae: 2080.9136\n",
            "Epoch 72/100\n",
            "268/268 [==============================] - 1s 2ms/step - loss: 2080.3638 - mae: 2080.3638\n",
            "Epoch 73/100\n",
            "268/268 [==============================] - 1s 2ms/step - loss: 2081.4019 - mae: 2081.4019\n",
            "Epoch 74/100\n",
            "268/268 [==============================] - 1s 2ms/step - loss: 2082.1165 - mae: 2082.1165\n",
            "Epoch 75/100\n",
            "268/268 [==============================] - 1s 2ms/step - loss: 2082.0667 - mae: 2082.0667\n",
            "Epoch 76/100\n",
            "268/268 [==============================] - 1s 2ms/step - loss: 2079.6553 - mae: 2079.6553\n",
            "Epoch 77/100\n",
            "268/268 [==============================] - 1s 2ms/step - loss: 2081.1631 - mae: 2081.1631\n",
            "Epoch 78/100\n",
            "268/268 [==============================] - 1s 2ms/step - loss: 2079.3105 - mae: 2079.3105\n",
            "Epoch 79/100\n",
            "268/268 [==============================] - 1s 2ms/step - loss: 2077.8030 - mae: 2077.8030\n",
            "Epoch 80/100\n",
            "268/268 [==============================] - 1s 2ms/step - loss: 2081.3254 - mae: 2081.3254\n",
            "Epoch 81/100\n",
            "268/268 [==============================] - 1s 2ms/step - loss: 2079.7915 - mae: 2079.7915\n",
            "Epoch 82/100\n",
            "268/268 [==============================] - 1s 2ms/step - loss: 2081.2607 - mae: 2081.2607\n",
            "Epoch 83/100\n",
            "268/268 [==============================] - 1s 2ms/step - loss: 2081.9346 - mae: 2081.9346\n",
            "Epoch 84/100\n",
            "268/268 [==============================] - 1s 4ms/step - loss: 2081.7595 - mae: 2081.7595\n",
            "Epoch 85/100\n",
            "268/268 [==============================] - 1s 4ms/step - loss: 2081.1860 - mae: 2081.1860\n",
            "Epoch 86/100\n",
            "268/268 [==============================] - 1s 4ms/step - loss: 2076.4751 - mae: 2076.4751\n",
            "Epoch 87/100\n",
            "268/268 [==============================] - 1s 4ms/step - loss: 2081.4749 - mae: 2081.4749\n",
            "Epoch 88/100\n",
            "268/268 [==============================] - 1s 2ms/step - loss: 2077.8367 - mae: 2077.8367\n",
            "Epoch 89/100\n",
            "268/268 [==============================] - 1s 2ms/step - loss: 2078.7515 - mae: 2078.7515\n",
            "Epoch 90/100\n",
            "268/268 [==============================] - 1s 2ms/step - loss: 2078.7166 - mae: 2078.7166\n",
            "Epoch 91/100\n",
            "268/268 [==============================] - 1s 3ms/step - loss: 2079.3877 - mae: 2079.3877\n",
            "Epoch 92/100\n",
            "268/268 [==============================] - 1s 2ms/step - loss: 2080.7656 - mae: 2080.7656\n",
            "Epoch 93/100\n",
            "268/268 [==============================] - 1s 2ms/step - loss: 2076.4509 - mae: 2076.4509\n",
            "Epoch 94/100\n",
            "268/268 [==============================] - 1s 2ms/step - loss: 2076.5500 - mae: 2076.5500\n",
            "Epoch 95/100\n",
            "268/268 [==============================] - 1s 2ms/step - loss: 2082.0090 - mae: 2082.0090\n",
            "Epoch 96/100\n",
            "268/268 [==============================] - 1s 2ms/step - loss: 2076.8242 - mae: 2076.8242\n",
            "Epoch 97/100\n",
            "268/268 [==============================] - 1s 2ms/step - loss: 2078.0042 - mae: 2078.0042\n",
            "Epoch 98/100\n",
            "268/268 [==============================] - 1s 2ms/step - loss: 2077.4104 - mae: 2077.4104\n",
            "Epoch 99/100\n",
            "268/268 [==============================] - 1s 2ms/step - loss: 2075.3408 - mae: 2075.3408\n",
            "Epoch 100/100\n",
            "268/268 [==============================] - 1s 2ms/step - loss: 2076.1763 - mae: 2076.1763\n"
          ]
        }
      ]
    },
    {
      "cell_type": "code",
      "source": [
        "y_test = np.array(y_test, dtype=np.float32)\n",
        "\n",
        "model.evaluate(X_test_normal, y_test)"
      ],
      "metadata": {
        "colab": {
          "base_uri": "https://localhost:8080/"
        },
        "id": "y8_h2p7KF8SZ",
        "outputId": "5b78aa93-61c7-4075-bc92-1c5494479e4d"
      },
      "execution_count": 38,
      "outputs": [
        {
          "output_type": "stream",
          "name": "stdout",
          "text": [
            "67/67 [==============================] - 0s 2ms/step - loss: 2046.4794 - mae: 2046.4794\n"
          ]
        },
        {
          "output_type": "execute_result",
          "data": {
            "text/plain": [
              "[2046.4793701171875, 2046.4793701171875]"
            ]
          },
          "metadata": {},
          "execution_count": 38
        }
      ]
    },
    {
      "cell_type": "code",
      "source": [
        "model.save(\"drive/Mydrive/saved_flight_prices\")"
      ],
      "metadata": {
        "id": "AclHSF912WoQ"
      },
      "execution_count": 45,
      "outputs": []
    },
    {
      "cell_type": "code",
      "source": [
        "loaded_model = tf.keras.models.load_model(\"drive/Mydrive/saved_flight_prices\")"
      ],
      "metadata": {
        "id": "Wbsae_mq4_dH"
      },
      "execution_count": 49,
      "outputs": []
    },
    {
      "cell_type": "code",
      "source": [
        "loaded_model"
      ],
      "metadata": {
        "colab": {
          "base_uri": "https://localhost:8080/"
        },
        "id": "gmEFWjp34nyD",
        "outputId": "d1f7f41c-75c7-4fbe-90d9-b4087ad90cb9"
      },
      "execution_count": 50,
      "outputs": [
        {
          "output_type": "execute_result",
          "data": {
            "text/plain": [
              "<keras.src.engine.sequential.Sequential at 0x7fd401e54f40>"
            ]
          },
          "metadata": {},
          "execution_count": 50
        }
      ]
    },
    {
      "cell_type": "code",
      "source": [
        "loaded_model.summary()"
      ],
      "metadata": {
        "colab": {
          "base_uri": "https://localhost:8080/"
        },
        "id": "dlALrPz04rym",
        "outputId": "51657fea-0feb-415e-f8c5-a6d46737d325"
      },
      "execution_count": 51,
      "outputs": [
        {
          "output_type": "stream",
          "name": "stdout",
          "text": [
            "Model: \"flight_price_model\"\n",
            "_________________________________________________________________\n",
            " Layer (type)                Output Shape              Param #   \n",
            "=================================================================\n",
            " dense_15 (Dense)            (None, 32)                1056      \n",
            "                                                                 \n",
            " dense_16 (Dense)            (None, 100)               3300      \n",
            "                                                                 \n",
            " dense_17 (Dense)            (None, 100)               10100     \n",
            "                                                                 \n",
            " dense_18 (Dense)            (None, 1)                 101       \n",
            "                                                                 \n",
            "=================================================================\n",
            "Total params: 14557 (56.86 KB)\n",
            "Trainable params: 14557 (56.86 KB)\n",
            "Non-trainable params: 0 (0.00 Byte)\n",
            "_________________________________________________________________\n"
          ]
        }
      ]
    },
    {
      "cell_type": "code",
      "source": [
        "model.summary()"
      ],
      "metadata": {
        "colab": {
          "base_uri": "https://localhost:8080/"
        },
        "id": "ZCPP-IE54t3f",
        "outputId": "145e6ff6-9301-4918-fee0-c32d6ed62275"
      },
      "execution_count": 52,
      "outputs": [
        {
          "output_type": "stream",
          "name": "stdout",
          "text": [
            "Model: \"flight_price_model\"\n",
            "_________________________________________________________________\n",
            " Layer (type)                Output Shape              Param #   \n",
            "=================================================================\n",
            " dense_15 (Dense)            (None, 32)                1056      \n",
            "                                                                 \n",
            " dense_16 (Dense)            (None, 100)               3300      \n",
            "                                                                 \n",
            " dense_17 (Dense)            (None, 100)               10100     \n",
            "                                                                 \n",
            " dense_18 (Dense)            (None, 1)                 101       \n",
            "                                                                 \n",
            "=================================================================\n",
            "Total params: 14557 (56.86 KB)\n",
            "Trainable params: 14557 (56.86 KB)\n",
            "Non-trainable params: 0 (0.00 Byte)\n",
            "_________________________________________________________________\n"
          ]
        }
      ]
    },
    {
      "cell_type": "code",
      "source": [],
      "metadata": {
        "id": "wTDZKSsP5RlN"
      },
      "execution_count": null,
      "outputs": []
    }
  ]
}